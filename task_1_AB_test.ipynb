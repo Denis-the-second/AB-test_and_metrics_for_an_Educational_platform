{
 "cells": [
  {
   "cell_type": "code",
   "execution_count": 1,
   "metadata": {},
   "outputs": [],
   "source": [
    "import numpy as np\n",
    "import pandas as pd\n",
    "\n",
    "import matplotlib.pyplot as plt\n",
    "import seaborn as sns\n",
    "\n",
    "from tqdm.auto import tqdm\n",
    "from scipy.stats import norm \n",
    "from scipy.stats import stats \n",
    "\n",
    "%matplotlib inline"
   ]
  },
  {
   "cell_type": "markdown",
   "metadata": {},
   "source": [
    "# Задание 1: A/B тестирование / Task 1: A/B testing\n",
    "### В ходе тестирования одной гипотезы целевой группе была предложена новая механика оплаты услуг на сайте, у контрольной группы оставалась базовая механика. В качестве задания Вам необходимо проанализировать итоги эксперимента и сделать вывод, стоит ли запускать новую механику оплаты на всех пользователей.\n",
    "### During a hypothesis testing a new mechanic of payment has been introduced to the target group, and the control group had the usual mechanic. Your goal is to analyze the results of the experiment and find out, wether it is wise to launch the new payment mechanic for all users."
   ]
  },
  {
   "cell_type": "markdown",
   "metadata": {},
   "source": [
    "### В качестве входных данных Вы имеете 4 csv-файла / as input data you have 4 csv-files:\n",
    "\n",
    "### groups.csv - файл с информацией о принадлежности пользователя к контрольной или экспериментальной группе (А – контроль, B – целевая группа) / a file that shows to which group a certain user belongs to (A - control group, B - target group)\n",
    "### groups_add.csv - дополнительный файл с пользователями, который вам прислали спустя 2 дня после передачи данных / an additional file with users that you recieved two days after you sent the data\n",
    "### active_studs.csv - файл с информацией о пользователях, которые зашли на платформу в дни проведения эксперимента. / a file with information about users that entered the platform during the experiment\n",
    "### checks.csv - файл с информацией об оплатах пользователей в дни проведения эксперимента. / a file with information about user payments during the experiment"
   ]
  },
  {
   "cell_type": "code",
   "execution_count": 2,
   "metadata": {},
   "outputs": [],
   "source": [
    "groups = pd.read_csv('~/my_final_project/variant_2/groups.csv', sep=';')"
   ]
  },
  {
   "cell_type": "code",
   "execution_count": 3,
   "metadata": {},
   "outputs": [
    {
     "data": {
      "text/html": [
       "<div>\n",
       "<style scoped>\n",
       "    .dataframe tbody tr th:only-of-type {\n",
       "        vertical-align: middle;\n",
       "    }\n",
       "\n",
       "    .dataframe tbody tr th {\n",
       "        vertical-align: top;\n",
       "    }\n",
       "\n",
       "    .dataframe thead th {\n",
       "        text-align: right;\n",
       "    }\n",
       "</style>\n",
       "<table border=\"1\" class=\"dataframe\">\n",
       "  <thead>\n",
       "    <tr style=\"text-align: right;\">\n",
       "      <th></th>\n",
       "      <th>id</th>\n",
       "      <th>grp</th>\n",
       "    </tr>\n",
       "  </thead>\n",
       "  <tbody>\n",
       "    <tr>\n",
       "      <th>0</th>\n",
       "      <td>1489</td>\n",
       "      <td>B</td>\n",
       "    </tr>\n",
       "    <tr>\n",
       "      <th>1</th>\n",
       "      <td>1627</td>\n",
       "      <td>A</td>\n",
       "    </tr>\n",
       "    <tr>\n",
       "      <th>2</th>\n",
       "      <td>1768</td>\n",
       "      <td>B</td>\n",
       "    </tr>\n",
       "    <tr>\n",
       "      <th>3</th>\n",
       "      <td>1783</td>\n",
       "      <td>B</td>\n",
       "    </tr>\n",
       "    <tr>\n",
       "      <th>4</th>\n",
       "      <td>1794</td>\n",
       "      <td>A</td>\n",
       "    </tr>\n",
       "  </tbody>\n",
       "</table>\n",
       "</div>"
      ],
      "text/plain": [
       "     id grp\n",
       "0  1489   B\n",
       "1  1627   A\n",
       "2  1768   B\n",
       "3  1783   B\n",
       "4  1794   A"
      ]
     },
     "execution_count": 3,
     "metadata": {},
     "output_type": "execute_result"
    }
   ],
   "source": [
    "groups.head()"
   ]
  },
  {
   "cell_type": "code",
   "execution_count": 4,
   "metadata": {},
   "outputs": [
    {
     "data": {
      "text/html": [
       "<div>\n",
       "<style scoped>\n",
       "    .dataframe tbody tr th:only-of-type {\n",
       "        vertical-align: middle;\n",
       "    }\n",
       "\n",
       "    .dataframe tbody tr th {\n",
       "        vertical-align: top;\n",
       "    }\n",
       "\n",
       "    .dataframe thead th {\n",
       "        text-align: right;\n",
       "    }\n",
       "</style>\n",
       "<table border=\"1\" class=\"dataframe\">\n",
       "  <thead>\n",
       "    <tr style=\"text-align: right;\">\n",
       "      <th></th>\n",
       "      <th>id</th>\n",
       "      <th>grp</th>\n",
       "    </tr>\n",
       "  </thead>\n",
       "  <tbody>\n",
       "    <tr>\n",
       "      <th>0</th>\n",
       "      <td>5694584</td>\n",
       "      <td>B</td>\n",
       "    </tr>\n",
       "    <tr>\n",
       "      <th>1</th>\n",
       "      <td>5694830</td>\n",
       "      <td>B</td>\n",
       "    </tr>\n",
       "    <tr>\n",
       "      <th>2</th>\n",
       "      <td>5695057</td>\n",
       "      <td>B</td>\n",
       "    </tr>\n",
       "    <tr>\n",
       "      <th>3</th>\n",
       "      <td>5698872</td>\n",
       "      <td>B</td>\n",
       "    </tr>\n",
       "    <tr>\n",
       "      <th>4</th>\n",
       "      <td>5699067</td>\n",
       "      <td>B</td>\n",
       "    </tr>\n",
       "  </tbody>\n",
       "</table>\n",
       "</div>"
      ],
      "text/plain": [
       "        id grp\n",
       "0  5694584   B\n",
       "1  5694830   B\n",
       "2  5695057   B\n",
       "3  5698872   B\n",
       "4  5699067   B"
      ]
     },
     "execution_count": 4,
     "metadata": {},
     "output_type": "execute_result"
    }
   ],
   "source": [
    "groups_add = pd.read_csv('~/my_final_project/variant_2/group_add.csv')\n",
    "groups_add.head()"
   ]
  },
  {
   "cell_type": "code",
   "execution_count": 5,
   "metadata": {},
   "outputs": [
    {
     "data": {
      "text/html": [
       "<div>\n",
       "<style scoped>\n",
       "    .dataframe tbody tr th:only-of-type {\n",
       "        vertical-align: middle;\n",
       "    }\n",
       "\n",
       "    .dataframe tbody tr th {\n",
       "        vertical-align: top;\n",
       "    }\n",
       "\n",
       "    .dataframe thead th {\n",
       "        text-align: right;\n",
       "    }\n",
       "</style>\n",
       "<table border=\"1\" class=\"dataframe\">\n",
       "  <thead>\n",
       "    <tr style=\"text-align: right;\">\n",
       "      <th></th>\n",
       "      <th>id</th>\n",
       "    </tr>\n",
       "  </thead>\n",
       "  <tbody>\n",
       "    <tr>\n",
       "      <th>0</th>\n",
       "      <td>581585</td>\n",
       "    </tr>\n",
       "    <tr>\n",
       "      <th>1</th>\n",
       "      <td>5723133</td>\n",
       "    </tr>\n",
       "    <tr>\n",
       "      <th>2</th>\n",
       "      <td>3276743</td>\n",
       "    </tr>\n",
       "    <tr>\n",
       "      <th>3</th>\n",
       "      <td>4238589</td>\n",
       "    </tr>\n",
       "    <tr>\n",
       "      <th>4</th>\n",
       "      <td>4475369</td>\n",
       "    </tr>\n",
       "  </tbody>\n",
       "</table>\n",
       "</div>"
      ],
      "text/plain": [
       "        id\n",
       "0   581585\n",
       "1  5723133\n",
       "2  3276743\n",
       "3  4238589\n",
       "4  4475369"
      ]
     },
     "execution_count": 5,
     "metadata": {},
     "output_type": "execute_result"
    }
   ],
   "source": [
    "active_users = pd.read_csv('~/my_final_project/variant_2/active_studs.csv')\n",
    "active_users = active_users.rename(columns={'student_id': 'id'})\n",
    "active_users.head()"
   ]
  },
  {
   "cell_type": "code",
   "execution_count": 6,
   "metadata": {},
   "outputs": [
    {
     "name": "stdout",
     "output_type": "stream",
     "text": [
      "(541, 2)\n"
     ]
    },
    {
     "data": {
      "text/html": [
       "<div>\n",
       "<style scoped>\n",
       "    .dataframe tbody tr th:only-of-type {\n",
       "        vertical-align: middle;\n",
       "    }\n",
       "\n",
       "    .dataframe tbody tr th {\n",
       "        vertical-align: top;\n",
       "    }\n",
       "\n",
       "    .dataframe thead th {\n",
       "        text-align: right;\n",
       "    }\n",
       "</style>\n",
       "<table border=\"1\" class=\"dataframe\">\n",
       "  <thead>\n",
       "    <tr style=\"text-align: right;\">\n",
       "      <th></th>\n",
       "      <th>id</th>\n",
       "      <th>rev</th>\n",
       "    </tr>\n",
       "  </thead>\n",
       "  <tbody>\n",
       "    <tr>\n",
       "      <th>0</th>\n",
       "      <td>1627</td>\n",
       "      <td>990.0</td>\n",
       "    </tr>\n",
       "    <tr>\n",
       "      <th>1</th>\n",
       "      <td>3185</td>\n",
       "      <td>690.0</td>\n",
       "    </tr>\n",
       "    <tr>\n",
       "      <th>2</th>\n",
       "      <td>25973</td>\n",
       "      <td>690.0</td>\n",
       "    </tr>\n",
       "    <tr>\n",
       "      <th>3</th>\n",
       "      <td>26280</td>\n",
       "      <td>690.0</td>\n",
       "    </tr>\n",
       "    <tr>\n",
       "      <th>4</th>\n",
       "      <td>100300</td>\n",
       "      <td>990.0</td>\n",
       "    </tr>\n",
       "  </tbody>\n",
       "</table>\n",
       "</div>"
      ],
      "text/plain": [
       "       id    rev\n",
       "0    1627  990.0\n",
       "1    3185  690.0\n",
       "2   25973  690.0\n",
       "3   26280  690.0\n",
       "4  100300  990.0"
      ]
     },
     "execution_count": 6,
     "metadata": {},
     "output_type": "execute_result"
    }
   ],
   "source": [
    "checks = pd.read_csv('~/my_final_project/variant_2/checks.csv', sep=';')\n",
    "checks = checks.rename(columns={'student_id': 'id'})\n",
    "print(checks.shape)\n",
    "checks.head()"
   ]
  },
  {
   "cell_type": "markdown",
   "metadata": {},
   "source": [
    "### План подготовки данных перед тестированием / plan of prepearing data before testing:\n",
    "1. Объединить groups с gropups_add, чтобы получить общий список пользователей, разделенный на группы / Unite \"groups\" with \"groups_add\" to ave a full dataframe of users, divided into groups\n",
    "2. Объединить полученный датафрейм с active_users, чтобы получить список из активных пользователей по группам / Merge the dataframe from the previous step with \"active_users\" in order to get a dataframe with information about active users, divided into groups\n",
    "3. Объединить полученный датафрейм с checks, чтобы получить список активных пользователей по группам с информацией, по которой можно оценить статистическую значимость внедренных изменений / Merge the dataframe from the last step with \"checks\" in order to get a dataframe of active users divided into groups with information, with which one can evaluate the statistical significance of introduced changes"
   ]
  },
  {
   "cell_type": "code",
   "execution_count": 7,
   "metadata": {},
   "outputs": [
    {
     "name": "stdout",
     "output_type": "stream",
     "text": [
      "Number of entries in \"groups\" = 74484, number of entries in \"groups_add\" = 92, total number of entries = 74576\n",
      "Is the resulting DataFrame without duplicates? - True\n"
     ]
    }
   ],
   "source": [
    "# 1\n",
    "full_groups = pd.concat([groups, groups_add], ignore_index=True)\n",
    "print(f'Number of entries in \"groups\" = {groups.shape[0]}, number of entries in \"groups_add\" = {groups_add.shape[0]}, total number of entries = {groups.shape[0] + groups_add.shape[0]}')\n",
    "print(f\"Is the resulting DataFrame without duplicates? - {(groups.shape[0] + groups_add.shape[0]) == full_groups.drop_duplicates(subset=['id', 'grp']).shape[0]}\")"
   ]
  },
  {
   "cell_type": "code",
   "execution_count": 8,
   "metadata": {},
   "outputs": [
    {
     "data": {
      "text/html": [
       "<div>\n",
       "<style scoped>\n",
       "    .dataframe tbody tr th:only-of-type {\n",
       "        vertical-align: middle;\n",
       "    }\n",
       "\n",
       "    .dataframe tbody tr th {\n",
       "        vertical-align: top;\n",
       "    }\n",
       "\n",
       "    .dataframe thead th {\n",
       "        text-align: right;\n",
       "    }\n",
       "</style>\n",
       "<table border=\"1\" class=\"dataframe\">\n",
       "  <thead>\n",
       "    <tr style=\"text-align: right;\">\n",
       "      <th></th>\n",
       "      <th>id</th>\n",
       "      <th>grp</th>\n",
       "    </tr>\n",
       "  </thead>\n",
       "  <tbody>\n",
       "    <tr>\n",
       "      <th>0</th>\n",
       "      <td>1627</td>\n",
       "      <td>A</td>\n",
       "    </tr>\n",
       "    <tr>\n",
       "      <th>1</th>\n",
       "      <td>2085</td>\n",
       "      <td>B</td>\n",
       "    </tr>\n",
       "    <tr>\n",
       "      <th>2</th>\n",
       "      <td>2215</td>\n",
       "      <td>B</td>\n",
       "    </tr>\n",
       "    <tr>\n",
       "      <th>3</th>\n",
       "      <td>3391</td>\n",
       "      <td>A</td>\n",
       "    </tr>\n",
       "    <tr>\n",
       "      <th>4</th>\n",
       "      <td>3401</td>\n",
       "      <td>B</td>\n",
       "    </tr>\n",
       "  </tbody>\n",
       "</table>\n",
       "</div>"
      ],
      "text/plain": [
       "     id grp\n",
       "0  1627   A\n",
       "1  2085   B\n",
       "2  2215   B\n",
       "3  3391   A\n",
       "4  3401   B"
      ]
     },
     "execution_count": 8,
     "metadata": {},
     "output_type": "execute_result"
    }
   ],
   "source": [
    "# 2\n",
    "active_groups = full_groups.merge(right=active_users, how='inner', on='id')\n",
    "active_groups.head()"
   ]
  },
  {
   "cell_type": "code",
   "execution_count": 9,
   "metadata": {},
   "outputs": [
    {
     "data": {
      "text/html": [
       "<div>\n",
       "<style scoped>\n",
       "    .dataframe tbody tr th:only-of-type {\n",
       "        vertical-align: middle;\n",
       "    }\n",
       "\n",
       "    .dataframe tbody tr th {\n",
       "        vertical-align: top;\n",
       "    }\n",
       "\n",
       "    .dataframe thead th {\n",
       "        text-align: right;\n",
       "    }\n",
       "</style>\n",
       "<table border=\"1\" class=\"dataframe\">\n",
       "  <thead>\n",
       "    <tr style=\"text-align: right;\">\n",
       "      <th></th>\n",
       "      <th>id</th>\n",
       "      <th>grp</th>\n",
       "      <th>rev</th>\n",
       "    </tr>\n",
       "  </thead>\n",
       "  <tbody>\n",
       "    <tr>\n",
       "      <th>0</th>\n",
       "      <td>1627</td>\n",
       "      <td>A</td>\n",
       "      <td>990.0</td>\n",
       "    </tr>\n",
       "    <tr>\n",
       "      <th>1</th>\n",
       "      <td>2085</td>\n",
       "      <td>B</td>\n",
       "      <td>0.0</td>\n",
       "    </tr>\n",
       "    <tr>\n",
       "      <th>2</th>\n",
       "      <td>2215</td>\n",
       "      <td>B</td>\n",
       "      <td>0.0</td>\n",
       "    </tr>\n",
       "    <tr>\n",
       "      <th>3</th>\n",
       "      <td>3391</td>\n",
       "      <td>A</td>\n",
       "      <td>0.0</td>\n",
       "    </tr>\n",
       "    <tr>\n",
       "      <th>4</th>\n",
       "      <td>3401</td>\n",
       "      <td>B</td>\n",
       "      <td>0.0</td>\n",
       "    </tr>\n",
       "  </tbody>\n",
       "</table>\n",
       "</div>"
      ],
      "text/plain": [
       "     id grp    rev\n",
       "0  1627   A  990.0\n",
       "1  2085   B    0.0\n",
       "2  2215   B    0.0\n",
       "3  3391   A    0.0\n",
       "4  3401   B    0.0"
      ]
     },
     "execution_count": 9,
     "metadata": {},
     "output_type": "execute_result"
    }
   ],
   "source": [
    "# 3\n",
    "df = active_groups.merge(right=checks, how='left', on='id')\n",
    "df = df.fillna(0.0)\n",
    "df.head()"
   ]
  },
  {
   "cell_type": "markdown",
   "metadata": {},
   "source": [
    "## Поставленные гипотезы: первая группа / Introduced Hypothesis: first set:\n",
    "### H0: Разницы в ARPPU (Average revenue per paying user) между контрольной и целевой группами нет / There is no significant difference between the control and target groups in the ARPPU (Average revenue per paying user)\n",
    "### H1: Разница в ARPPU между контрольной и целевой группами есть / There is significant difference between the control and target groups in the ARPPU\n",
    "\n",
    "### Шаг 1: Разделим полученные данные на на два датасета по типу группы, к оторой пренадлежат пользователи, причем не будем учитывать активных пользователей, которые не совершали покупок \n",
    "### Step 1: Let us divide given data into two datasets according to the user's group belonging, without data about active users that haven't made purchases"
   ]
  },
  {
   "cell_type": "code",
   "execution_count": 10,
   "metadata": {},
   "outputs": [
    {
     "name": "stdout",
     "output_type": "stream",
     "text": [
      "The size of the control group (A) is 78 \n",
      "The size of the target group (B) is 314\n"
     ]
    },
    {
     "data": {
      "text/plain": [
       "0     990.0\n",
       "1    1830.0\n",
       "2    2910.0\n",
       "3    2820.0\n",
       "4    3660.0\n",
       "Name: rev, dtype: float64"
      ]
     },
     "execution_count": 10,
     "metadata": {},
     "output_type": "execute_result"
    }
   ],
   "source": [
    "control = df.query('grp == \"A\" and rev != 0.0').rev.reset_index(drop=True)\n",
    "target = df.query('grp == \"B\" and rev != 0.0').rev.reset_index(drop=True)\n",
    "print(f'The size of the control group (A) is {control.shape[0]} \\nThe size of the target group (B) is {target.shape[0]}')\n",
    "control.head()"
   ]
  },
  {
   "cell_type": "markdown",
   "metadata": {},
   "source": [
    "### Шаг 2: Проверка распределений на нормальность и значимое отличие в дисперсиях\n",
    "### Step 2: Checking wether the distributions are normal and wether their variances differ significantly"
   ]
  },
  {
   "cell_type": "code",
   "execution_count": 11,
   "metadata": {},
   "outputs": [
    {
     "name": "stdout",
     "output_type": "stream",
     "text": [
      "LeveneResult(statistic=3.075681699981606, pvalue=0.08025675761347022)\n",
      "NormaltestResult(statistic=30.378419638487475, pvalue=2.5316868804220266e-07)\n",
      "NormaltestResult(statistic=6.795662714490353, pvalue=0.033445723194625424)\n"
     ]
    }
   ],
   "source": [
    "import scipy\n",
    "\n",
    "print(scipy.stats.levene(control, target)) \n",
    "# Дисперсии значимо отличаются / variances differ significantly\n",
    "\n",
    "print(scipy.stats.normaltest(control)) \n",
    "# Распределение значимо отличается от нормального / Distribution differs from normal significantly\n",
    "\n",
    "print(scipy.stats.normaltest(target)) \n",
    "# Распределение значимо отличается от нормального / Distribution differs from normal significantly"
   ]
  },
  {
   "cell_type": "markdown",
   "metadata": {},
   "source": [
    "### Дополнение: Так как согласно некоторым источникам (https://koch-kir.medium.com/история-одного-обмана-или-требования-к-распределению-в-статистических-тестах-55139a5558d) необходимо проверить на нормальность не само распределение метрики, а распределение средних этого распределения на нормальность, создадим функцию, которая выполнит это действие - my_normaltest\n",
    "### Addition: Because of the fact that there are sources (https://koch-kir.medium.com/история-одного-обмана-или-требования-к-распределению-в-статистических-тестах-55139a5558d) that suggest that it is not the normality of the general distribution that has to be checked, rather the normality of the distribution of mean values of sub-distributions, let us create a function that will do just that - my_normaltest"
   ]
  },
  {
   "cell_type": "code",
   "execution_count": 12,
   "metadata": {},
   "outputs": [],
   "source": [
    "def my_normaltest(\n",
    "    data_column, # числовые значения выборки\n",
    "    boot_it = 1000, # количество подвыборок\n",
    "):\n",
    "    data = [] # Список, в котором будет храниться распределение средних\n",
    "    \n",
    "    for i in tqdm(range(boot_it)): # извлекаем подвыборки\n",
    "        samples = data_column.sample(\n",
    "            len(data_column), \n",
    "            replace = True # параметр возвращения\n",
    "        ).values\n",
    "        \n",
    "        data.append(np.mean(samples)) # mean() - применяем статистику\n",
    "        \n",
    "#     print(data)\n",
    "    print(scipy.stats.shapiro(data))\n",
    "    "
   ]
  },
  {
   "cell_type": "code",
   "execution_count": 13,
   "metadata": {},
   "outputs": [
    {
     "data": {
      "application/vnd.jupyter.widget-view+json": {
       "model_id": "ac6554f4253e4f4ca9b730133989570d",
       "version_major": 2,
       "version_minor": 0
      },
      "text/plain": [
       "HBox(children=(FloatProgress(value=0.0, max=1000.0), HTML(value='')))"
      ]
     },
     "metadata": {},
     "output_type": "display_data"
    },
    {
     "name": "stdout",
     "output_type": "stream",
     "text": [
      "\n",
      "ShapiroResult(statistic=0.9957589507102966, pvalue=0.007415601518005133)\n"
     ]
    },
    {
     "data": {
      "application/vnd.jupyter.widget-view+json": {
       "model_id": "02e955aab4ad4b83a74e4a0258a7e735",
       "version_major": 2,
       "version_minor": 0
      },
      "text/plain": [
       "HBox(children=(FloatProgress(value=0.0, max=1000.0), HTML(value='')))"
      ]
     },
     "metadata": {},
     "output_type": "display_data"
    },
    {
     "name": "stdout",
     "output_type": "stream",
     "text": [
      "\n",
      "ShapiroResult(statistic=0.9972440004348755, pvalue=0.08549245446920395)\n"
     ]
    }
   ],
   "source": [
    "my_normaltest(control)\n",
    "my_normaltest(target)\n"
   ]
  },
  {
   "cell_type": "markdown",
   "metadata": {},
   "source": [
    "### Шаг 3: Визуализируем полученные распределения через histplot и boxplot. Глядя на последний можно сделать предположение, что в результате проведения A/B теста различия между средними выборок окажутся значимыми и Н0 будет отвергнута (p<0.05)\n",
    "### Step 3: Let us visualize the distributions via histplot and boxplot. Judging by the latter one can make an assumption that the difference between mean values of the distributions will be significant and H0 will be rejected (p<0.05)"
   ]
  },
  {
   "cell_type": "code",
   "execution_count": 14,
   "metadata": {},
   "outputs": [
    {
     "data": {
      "text/plain": [
       "[Text(0.5, 1.0, 'Control and target group comparison')]"
      ]
     },
     "execution_count": 14,
     "metadata": {},
     "output_type": "execute_result"
    },
    {
     "data": {
      "image/png": "[encoded data removed]",
      "text/plain": [
       "<Figure size 1224x576 with 3 Axes>"
      ]
     },
     "metadata": {},
     "output_type": "display_data"
    }
   ],
   "source": [
    "sns.set(\n",
    "    font_scale=1,\n",
    "    style=\"whitegrid\",\n",
    "    rc={'figure.figsize':(17,8)}\n",
    "        )\n",
    "fig, axes = plt.subplots(1, 3)\n",
    "sns.histplot(data = control, ax=axes[0], label='control') \\\n",
    "    .set(title='Control group revenue distribution\\n(among paying users)')\n",
    "sns.histplot(data = target, ax=axes[1], label='target') \\\n",
    "    .set(title='Target group revenue distribution\\n(among paying users)')\n",
    "sns.boxplot(data = pd.DataFrame({'Control': control, 'Target': target}), ax=axes[2], showmeans=True) \\\n",
    "    .set(title='Control and target group comparison')"
   ]
  },
  {
   "cell_type": "markdown",
   "metadata": {},
   "source": [
    "Видно, что медианное и среднее значения выборки группы Target выше, чем у Control. Этого говорит о том, что изменения скорее всего имеют положительный эффект\n",
    "\n",
    "It is evident, that the median and mean values of the Target group are higher than the median and mean values of the Control group. This suggests that the introduced changes had a positive effect"
   ]
  },
  {
   "cell_type": "markdown",
   "metadata": {},
   "source": [
    "### Шаг 4: Так как распределяемая величина является непрерывной, и условие для выполнения t-теста не соблюдено, остается выполнить непараметрический U-тест и Bootstrap, так как они работают непосредственно с предоставленными им данными, а не с теоретическими распределениями\n",
    "### Step : Because the distributed metric is continuos and the condicion for t-test has not been met, let us use the unparametric U-test and Bootstrap, which work with the data itself, without theoretical distributions."
   ]
  },
  {
   "cell_type": "code",
   "execution_count": 15,
   "metadata": {},
   "outputs": [
    {
     "data": {
      "text/plain": [
       "MannwhitneyuResult(statistic=9001.0, pvalue=0.0002511393831406922)"
      ]
     },
     "execution_count": 15,
     "metadata": {},
     "output_type": "execute_result"
    }
   ],
   "source": [
    "scipy.stats.mannwhitneyu(control, target)\n",
    "# Согласно U-тесту, азличия между средними значениями значимы - Н0 отвергается\n",
    "# According to the U-test the difference between distributions' means is significant - H0 is rejected"
   ]
  },
  {
   "cell_type": "code",
   "execution_count": 16,
   "metadata": {},
   "outputs": [],
   "source": [
    "def get_bootstrap(\n",
    "    data_column_1, # числовые значения первой выборки\n",
    "    data_column_2, # числовые значения второй выборки\n",
    "    boot_it = 1000, # количество бутстрэп-подвыборок\n",
    "    statistic = np.mean, # интересующая нас статистика\n",
    "    bootstrap_conf_level = 0.95 # уровень значимости\n",
    "):\n",
    "    boot_data = []\n",
    "    for i in tqdm(range(boot_it)): # извлекаем подвыборки\n",
    "        samples_1 = data_column_1.sample(\n",
    "            len(data_column_1), \n",
    "            replace = True # параметр возвращения\n",
    "        ).values\n",
    "        \n",
    "        samples_2 = data_column_2.sample(\n",
    "            len(data_column_1), \n",
    "            replace = True\n",
    "        ).values\n",
    "        \n",
    "        boot_data.append(statistic(samples_1)-statistic(samples_2)) # mean() - применяем статистику\n",
    "        \n",
    "    pd_boot_data = pd.DataFrame(boot_data)\n",
    "        \n",
    "    left_quant = (1 - bootstrap_conf_level)/2\n",
    "    right_quant = 1 - (1 - bootstrap_conf_level) / 2\n",
    "    quants = pd_boot_data.quantile([left_quant, right_quant])\n",
    "        \n",
    "    p_1 = norm.cdf(\n",
    "        x = 0, \n",
    "        loc = np.mean(boot_data), \n",
    "        scale = np.std(boot_data)\n",
    "    )\n",
    "    p_2 = norm.cdf(\n",
    "        x = 0, \n",
    "        loc = -np.mean(boot_data), \n",
    "        scale = np.std(boot_data)\n",
    "    )\n",
    "    p_value = min(p_1, p_2) * 2\n",
    "        \n",
    "    # Визуализация\n",
    "    _, _, bars = plt.hist(pd_boot_data[0], bins = 50)\n",
    "    for bar in bars:\n",
    "        if bar.get_x() <= quants.iloc[0][0] or bar.get_x() >= quants.iloc[1][0]:\n",
    "            bar.set_facecolor('red')\n",
    "        else: \n",
    "            bar.set_facecolor('grey')\n",
    "            bar.set_edgecolor('black')\n",
    "    \n",
    "    plt.style.use('ggplot')\n",
    "    plt.vlines(quants,ymin=0,ymax=50,linestyle='--')\n",
    "    plt.xlabel('boot_data')\n",
    "    plt.ylabel('frequency')\n",
    "    plt.title(\"Histogram of boot_data\")\n",
    "    plt.show()\n",
    "       \n",
    "    return {\"boot_data\": boot_data, \n",
    "            \"quants\": quants, \n",
    "            \"p_value\": p_value}"
   ]
  },
  {
   "cell_type": "code",
   "execution_count": 17,
   "metadata": {},
   "outputs": [
    {
     "data": {
      "application/vnd.jupyter.widget-view+json": {
       "model_id": "c36a21455a014b7ca01b9c288e036515",
       "version_major": 2,
       "version_minor": 0
      },
      "text/plain": [
       "HBox(children=(FloatProgress(value=0.0, max=1000.0), HTML(value='')))"
      ]
     },
     "metadata": {},
     "output_type": "display_data"
    },
    {
     "name": "stdout",
     "output_type": "stream",
     "text": [
      "\n"
     ]
    },
    {
     "data": {
      "image/png": "[encoded data removed]",
      "text/plain": [
       "<Figure size 1224x576 with 1 Axes>"
      ]
     },
     "metadata": {},
     "output_type": "display_data"
    },
    {
     "name": "stdout",
     "output_type": "stream",
     "text": [
      "p-value: 3.2888313701384385e-06\n",
      "                0\n",
      "0.025  188.375409\n",
      "0.975  461.449293\n"
     ]
    }
   ],
   "source": [
    "booted_data = get_bootstrap(target, control, boot_it = 1000)\n",
    "print('p-value:', booted_data[\"p_value\"])\n",
    "print(booted_data[\"quants\"] )\n",
    "# Результат проведения Bootstrap подтверждает результаты U-теста - Н0 отвергается\n",
    "# The results of Bootstrap confirm the reliability of U-test results - H0 is rejected"
   ]
  },
  {
   "cell_type": "markdown",
   "metadata": {},
   "source": [
    "## Поставленные гипотезы: вторая группа / Introduced Hypothesis: second set:\n",
    "### H0: Разницы в ARPU (Average revenue per user) между контрольной и целевой группами нет / There is no significant difference between the control and target groups in the ARPU (Average revenue per user)\n",
    "### H1: Разница в ARPU между контрольной и целевой группами есть / There is significant difference between the control and target groups in the ARPU\n",
    "### Воспользуемся тем же алгоритмом, что и при проверке первой группы гипотез / Let us use the same algorithm, that was used to test the first set of hypothesis"
   ]
  },
  {
   "cell_type": "markdown",
   "metadata": {},
   "source": [
    "### 1. Создадим 2 датасета с пользователями, разделенными по группам / Create 2 datasets with users from each of the two groups"
   ]
  },
  {
   "cell_type": "code",
   "execution_count": 18,
   "metadata": {},
   "outputs": [
    {
     "name": "stdout",
     "output_type": "stream",
     "text": [
      "The size of the control group (A) is 1538 \n",
      "The size of the target group (B) is 6803\n"
     ]
    },
    {
     "data": {
      "text/plain": [
       "0    990.0\n",
       "1      0.0\n",
       "2      0.0\n",
       "3      0.0\n",
       "4      0.0\n",
       "Name: rev, dtype: float64"
      ]
     },
     "execution_count": 18,
     "metadata": {},
     "output_type": "execute_result"
    }
   ],
   "source": [
    "full_control = df.query('grp == \"A\"').rev.reset_index(drop=True)\n",
    "full_target = df.query('grp == \"B\"').rev.reset_index(drop=True)\n",
    "print(f'The size of the control group (A) is {full_control.shape[0]} \\nThe size of the target group (B) is {full_target.shape[0]}')\n",
    "full_control.head()"
   ]
  },
  {
   "cell_type": "markdown",
   "metadata": {},
   "source": [
    "### 2. Проверим нормальность распределения параметра revenue / Check wether revenue distributions are normal"
   ]
  },
  {
   "cell_type": "code",
   "execution_count": 19,
   "metadata": {},
   "outputs": [
    {
     "name": "stdout",
     "output_type": "stream",
     "text": [
      "LeveneResult(statistic=3.075681699981606, pvalue=0.08025675761347022)\n",
      "NormaltestResult(statistic=2240.595797407402, pvalue=0.0)\n",
      "NormaltestResult(statistic=7797.399211581946, pvalue=0.0)\n"
     ]
    }
   ],
   "source": [
    "print(scipy.stats.levene(control, target)) \n",
    "# Дисперсии значимо отличаются / variances differ significantly\n",
    "print(scipy.stats.normaltest(full_control))\n",
    "# Распределение значимо отличается от нормального / Distribution differs from normal significantly\n",
    "print(scipy.stats.normaltest(full_target))\n",
    "# Распределение значимо отличается от нормального / Distribution differs from normal significantly"
   ]
  },
  {
   "cell_type": "code",
   "execution_count": 20,
   "metadata": {},
   "outputs": [
    {
     "data": {
      "application/vnd.jupyter.widget-view+json": {
       "model_id": "411561ef034f4ba4a4e80e6ffa5c8e0c",
       "version_major": 2,
       "version_minor": 0
      },
      "text/plain": [
       "HBox(children=(FloatProgress(value=0.0, max=1000.0), HTML(value='')))"
      ]
     },
     "metadata": {},
     "output_type": "display_data"
    },
    {
     "name": "stdout",
     "output_type": "stream",
     "text": [
      "\n",
      "ShapiroResult(statistic=0.9990189671516418, pvalue=0.8827524185180664)\n"
     ]
    }
   ],
   "source": [
    "my_normaltest(full_target)"
   ]
  },
  {
   "cell_type": "markdown",
   "metadata": {},
   "source": [
    "### 3. Визуализировать распределения / Visualise distributions"
   ]
  },
  {
   "cell_type": "code",
   "execution_count": 21,
   "metadata": {},
   "outputs": [
    {
     "data": {
      "text/plain": [
       "[Text(0.5, 1.0, 'Control and target group comparison')]"
      ]
     },
     "execution_count": 21,
     "metadata": {},
     "output_type": "execute_result"
    },
    {
     "data": {
      "image/png": "[encoded data removed]",
      "text/plain": [
       "<Figure size 1224x576 with 3 Axes>"
      ]
     },
     "metadata": {},
     "output_type": "display_data"
    }
   ],
   "source": [
    "fig, axes = plt.subplots(1, 3)\n",
    "sns.histplot(data = full_control, ax=axes[0], label='control') \\\n",
    "    .set(title='Control group revenue distribution\\n(among all active users)')\n",
    "sns.histplot(data = full_target, ax=axes[1], label='target') \\\n",
    "    .set(title='Target group revenue distribution\\n(among all active users)')\n",
    "sns.boxplot(data = pd.DataFrame({'Control': full_control, 'Target': full_target}), ax=axes[2], showmeans=True) \\\n",
    "    .set(title='Control and target group comparison')"
   ]
  },
  {
   "cell_type": "markdown",
   "metadata": {},
   "source": [
    "### 4. Проведем U-тест и бутстрап / Conduct U-test and bootstrap"
   ]
  },
  {
   "cell_type": "code",
   "execution_count": 22,
   "metadata": {},
   "outputs": [
    {
     "name": "stdout",
     "output_type": "stream",
     "text": [
      "MannwhitneyuResult(statistic=5210901.0, pvalue=0.5099747992861601)\n"
     ]
    }
   ],
   "source": [
    "print(scipy.stats.mannwhitneyu(full_target, full_control))"
   ]
  },
  {
   "cell_type": "code",
   "execution_count": 23,
   "metadata": {},
   "outputs": [
    {
     "data": {
      "application/vnd.jupyter.widget-view+json": {
       "model_id": "39d3f47f39124b87a475e966401e104c",
       "version_major": 2,
       "version_minor": 0
      },
      "text/plain": [
       "HBox(children=(FloatProgress(value=0.0, max=10000.0), HTML(value='')))"
      ]
     },
     "metadata": {},
     "output_type": "display_data"
    },
    {
     "name": "stdout",
     "output_type": "stream",
     "text": [
      "\n"
     ]
    },
    {
     "data": {
      "image/png": "[encoded data removed]",
      "text/plain": [
       "<Figure size 1224x576 with 1 Axes>"
      ]
     },
     "metadata": {},
     "output_type": "display_data"
    },
    {
     "name": "stdout",
     "output_type": "stream",
     "text": [
      "p-value: 0.03722835169743839\n",
      "               0\n",
      "0.025   0.627948\n",
      "0.975  20.860452\n"
     ]
    }
   ],
   "source": [
    "full_booted_data = get_bootstrap(full_target, full_control, boot_it = 10000)\n",
    "print('p-value:', full_booted_data[\"p_value\"])\n",
    "print(full_booted_data[\"quants\"] )"
   ]
  },
  {
   "cell_type": "markdown",
   "metadata": {},
   "source": [
    "### U-тест показывает, что разница между выборками статистически не значима (p>0.05), в то время как bootstrap показывает обратный результат (p<0.05). Для определения того, какому тесту довериться, вспомним результаты, полученные из предыдущего A/B-теста, где изменения оказались значимыми, а также вспомним, что U-тест построен на том, что данные переводят в ранг и далее смотрят на разницу между средними рангами первой и воторой групп. Данный метод менее чувствителен к выбросам, однако для полученного распределения эта чувствительность важна, так как в данном случае выбросы - не лишние значения, а просто значения, выделяющиеся на фоне большого количества данных, где revenue = 0. Таким образом, лучше довериться тесту, который более чувствителен к ним, а не менее. Из этого следует, что bootstrap более надежен, чем U-тест в данном случае, и что разница между ARPU статистически значима.\n",
    "\n",
    "### U-test sows that the difference between distributions is not statistically significant (p>0.05), while bootstrap shows the opposite result (p<0.05). In order to determine, which result to trust let us remember the result of the previous A/B test, where the difference was statistically significant, but also one should remember that U-test is designed to turn data into ranks and compare mean values of rank between given distributions. Also, this test is known to be less sensitive to outliers, but in this case the outliers are not there by some mistake, they are just values that stand out in the background of entries, that have 0 revenue value, so we should trust a test, that is more sensitive to them, not less. This brings us to a conclusion that in this case bootstrap is more reliable than U-test and that the difference in ARPU is statistically significant after all."
   ]
  },
  {
   "cell_type": "markdown",
   "metadata": {},
   "source": [
    "## Поставленные гипотезы: третья группа / Introduced Hypothesis: third set:\n",
    "### H0: Разницы в CR (Conversion rate) между контрольной и целевой группами нет / There is no significant difference between the control and target groups in the CR\n",
    "### H1: Разница в CR между контрольной и целевой группами есть / There is significant difference between the control and target groups in the CR\n",
    "### Воспользуемся тестом хи-квадрат, предварительно подготовив данные о сконвертировавшихся и несконвертировавшийся пользователях по обеим группам, оформив их в таблицу сопряженности.\n",
    "### Let us use the chi-squared test by creating a R x C table with information about converted and not converted users by groups."
   ]
  },
  {
   "cell_type": "code",
   "execution_count": 24,
   "metadata": {},
   "outputs": [
    {
     "data": {
      "text/html": [
       "<div>\n",
       "<style scoped>\n",
       "    .dataframe tbody tr th:only-of-type {\n",
       "        vertical-align: middle;\n",
       "    }\n",
       "\n",
       "    .dataframe tbody tr th {\n",
       "        vertical-align: top;\n",
       "    }\n",
       "\n",
       "    .dataframe thead th {\n",
       "        text-align: right;\n",
       "    }\n",
       "</style>\n",
       "<table border=\"1\" class=\"dataframe\">\n",
       "  <thead>\n",
       "    <tr style=\"text-align: right;\">\n",
       "      <th></th>\n",
       "      <th>converted</th>\n",
       "      <th>not_converted</th>\n",
       "      <th>both</th>\n",
       "    </tr>\n",
       "  </thead>\n",
       "  <tbody>\n",
       "    <tr>\n",
       "      <th>control group</th>\n",
       "      <td>78</td>\n",
       "      <td>1460</td>\n",
       "      <td>1538</td>\n",
       "    </tr>\n",
       "    <tr>\n",
       "      <th>target group</th>\n",
       "      <td>314</td>\n",
       "      <td>6489</td>\n",
       "      <td>6803</td>\n",
       "    </tr>\n",
       "    <tr>\n",
       "      <th>both groups</th>\n",
       "      <td>392</td>\n",
       "      <td>7949</td>\n",
       "      <td>8341</td>\n",
       "    </tr>\n",
       "  </tbody>\n",
       "</table>\n",
       "</div>"
      ],
      "text/plain": [
       "               converted  not_converted  both\n",
       "control group         78           1460  1538\n",
       "target group         314           6489  6803\n",
       "both groups          392           7949  8341"
      ]
     },
     "execution_count": 24,
     "metadata": {},
     "output_type": "execute_result"
    }
   ],
   "source": [
    "CR_table = pd.DataFrame({'converted': [control.shape[0], target.shape[0], control.shape[0] + target.shape[0]],\n",
    "                         'not_converted': [full_control.shape[0] - control.shape[0], full_target.shape[0] - target.shape[0], full_control.shape[0] - control.shape[0] + full_target.shape[0] - target.shape[0]],\n",
    "                        'both': [full_control.shape[0], full_target.shape[0], full_control.shape[0] + full_target.shape[0]]}, \n",
    "                       index=['control group', 'target group', 'both groups'])\n",
    "CR_table"
   ]
  },
  {
   "cell_type": "markdown",
   "metadata": {},
   "source": [
    "### Проверим ожидаемые количества сконвертировавшихся пользователей в каждой группе за счет умножения количества пользователей в конкретной группе на вероятность конвертирования (количество сконвертировавшихся пользователей в обеих группах разделенное на общее количество пользователей в тесте)\n",
    "### We can check the expected values of converted users in each group by multiplying the number of users in a group by the probability of conversion (number of converted users among both groups divided by the total number of users in a test )"
   ]
  },
  {
   "cell_type": "code",
   "execution_count": 25,
   "metadata": {},
   "outputs": [
    {
     "name": "stdout",
     "output_type": "stream",
     "text": [
      "72.28102146025657\n",
      "319.71897853974343\n"
     ]
    }
   ],
   "source": [
    "expected_control = full_control.shape[0] * ((control.shape[0] + target.shape[0]) / (full_control.shape[0] + full_target.shape[0]))\n",
    "expected_target = full_target.shape[0] * ((control.shape[0] + target.shape[0]) / (full_control.shape[0] + full_target.shape[0]))\n",
    "\n",
    "print(expected_control)\n",
    "print(expected_target)\n"
   ]
  },
  {
   "cell_type": "markdown",
   "metadata": {},
   "source": [
    "### Проведем тест, отправив на вход функции версию таблицы сопряженности, где отстутствуют сложенные значения по группам ('both' и 'both groups'). Получившаяся таблица имеет размер 2х2, то есть количество степеней свободы равно 1. Полученное p-value составляет 0.48625240457231045 (> 0.05), ожидаемые количества сконвертировавшихся пользователей совпадают с расчетными. Это означает, что тест был проведен корректно, однако в его результате можно сделать вывод, что изменения в конверсии не являются статистически значимыми.\n",
    "### Let us run the test by giving as function's input a version of the R x C table that does not have added values ('both' and 'both groups'). The resulting table's size is 2x2 which means that the number of degreees of freedom equals 1. The resulting p-value is 0.48625240457231045 (> 0.05), the expected values of converted users match the previously calculated ones. This means that the test has run correctly, but it also means that the difference in CR is not statistically significant."
   ]
  },
  {
   "cell_type": "code",
   "execution_count": 26,
   "metadata": {},
   "outputs": [
    {
     "data": {
      "text/plain": [
       "(0.48480826522557896,\n",
       " 0.48625240457231045,\n",
       " 1,\n",
       " array([[  72.28102146, 1465.71897854],\n",
       "        [ 319.71897854, 6483.28102146]]))"
      ]
     },
     "execution_count": 26,
     "metadata": {},
     "output_type": "execute_result"
    }
   ],
   "source": [
    "scipy.stats.chi2_contingency(CR_table.loc['control group':'target group', 'converted':'not_converted'])"
   ]
  },
  {
   "cell_type": "markdown",
   "metadata": {},
   "source": [
    "## В дополнение к этому посчитаем метрики, которые сравнивали"
   ]
  },
  {
   "cell_type": "code",
   "execution_count": 27,
   "metadata": {},
   "outputs": [
    {
     "name": "stdout",
     "output_type": "stream",
     "text": [
      "ARPPU for the control group is 933.59\n",
      "ARPPU for the target group is 1257.88\n",
      "\n",
      "ARPU for the control group is 47.35\n",
      "ARPU for the target group is 58.06\n",
      "\n",
      "CR for the control group is 5.07%\n",
      "CR for the target group is 4.62%\n"
     ]
    }
   ],
   "source": [
    "arppu_control = round(control.sum() / control.shape[0], 2)\n",
    "print(f'ARPPU for the control group is {arppu_control}')\n",
    "arppu_target = round(target.sum() / target.shape[0], 2)\n",
    "print(f'ARPPU for the target group is {arppu_target}')\n",
    "print()\n",
    "arpu_control = round(control.sum() / full_control.shape[0], 2)\n",
    "print(f'ARPU for the control group is {arpu_control}')\n",
    "arpu_target = round(target.sum() / full_target.shape[0], 2)\n",
    "print(f'ARPU for the target group is {arpu_target}')\n",
    "print()\n",
    "CR_control = round((control.shape[0] / full_control.shape[0]) * 100, 2)\n",
    "print(f'CR for the control group is {CR_control}%')\n",
    "CR_target = round((target.shape[0] / full_target.shape[0]) * 100, 2)\n",
    "print(f'CR for the target group is {CR_target}%')"
   ]
  },
  {
   "cell_type": "markdown",
   "metadata": {},
   "source": [
    "# Выводы:\n",
    "### 1.В результате анализа данных, было выяснено, что распределяемые метрики (ARPPU и ARPU) не распределены нормально, что исключает использование t-теста для сравнения распределений, что привело к использованию не настолько же надежных методов (U-тест и Bootstrap). Также сам размер полученной для ARPPU выборки не является достаточно большим для формулировки уверенных выводов. Рекомендуется увеличить время тестирования для сбора большего объема данных\n",
    "### 2. В результате проведения A/B тестов, можно сделать вывод, что различия между полученными данными для ARPPU и ARPU статистически значимы и нововведение положительно отразилось на них, однако изменения в CR оказались незначительными. Из этого можно сделать вывод, что за счет практически такого же количеств платящих пользователей компания стала больше зарабатывать. Можно распространить новую механику оплаты на всех пользователей.\n",
    "### 3. Рекомендация: Для повышения надежности анализа следует выбрать дополнительные несколько показателей, по которым можно будет провести A/B тесты, и таким образом снизить вероятность неправильных выводов. \n",
    "### Примеры дополнительных метрик: частичная или полная конверсия по шагам оплаты услуг на сайте, сегментация пользователей по подходящему специфике продукта признаку (например, области, в которой была сделана покупка или статусу/возрасту покупателя)"
   ]
  },
  {
   "cell_type": "markdown",
   "metadata": {},
   "source": [
    "# Conclusions:\n",
    "### 1. After analyzing the given data, it was discovered that the distributed metrics (ARPPU and ARPU) were not normally distributed, which eliminated the possibility to conduct a t-test. As a result, less reliable methods of A/B-testing (U-test, Bootstrap) were used. Additionally, the sizes of resulting distributions for ARPPU were too small to make any concrete decisions, which is why it is recommended to expand the time of the experiment next time, in order to gather more data.\n",
    "### 2. After completing A/B-tests, it was concluded that the difference between distributions for ARPPU and ARPU is statistically significant and the new mechanic of payment has positively reflected them, however the difference in CR has proved not to be statistically significant. This can mean that by retaining the same number of paying users, the company has increased the amount of profit. The new method can be expanded to be used by all users.\n",
    "### 3. Recommendation: In order to increase the reliability of A/B-testing in the future, more parameters should be tracked and then transferred as input data. That can specify anomalies and decrease the probability of making incorrect conclusions\n",
    "### Examples of additional parameters/metrics to track: partial or full conversion on different steps of payment process, user segmentation by a product-appropriate parameter (for example an area, where the purchase was made or the status/age of the user)"
   ]
  },
  {
   "cell_type": "code",
   "execution_count": null,
   "metadata": {},
   "outputs": [],
   "source": []
  },
  {
   "cell_type": "code",
   "execution_count": null,
   "metadata": {},
   "outputs": [],
   "source": []
  }
 ],
 "metadata": {
  "kernelspec": {
   "display_name": "Python 3",
   "language": "python",
   "name": "python3"
  },
  "language_info": {
   "codemirror_mode": {
    "name": "ipython",
    "version": 3
   },
   "file_extension": ".py",
   "mimetype": "text/x-python",
   "name": "python",
   "nbconvert_exporter": "python",
   "pygments_lexer": "ipython3",
   "version": "3.7.3"
  }
 },
 "nbformat": 4,
 "nbformat_minor": 4
}
