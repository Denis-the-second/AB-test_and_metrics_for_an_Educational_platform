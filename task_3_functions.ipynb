{
 "cells": [
  {
   "cell_type": "code",
   "execution_count": 1,
   "metadata": {},
   "outputs": [],
   "source": [
    "import pandas as pd\n",
    "import numpy as np\n",
    "\n",
    "import matplotlib.pyplot as plt\n",
    "import seaborn as sns\n",
    "\n",
    "%matplotlib inline"
   ]
  },
  {
   "cell_type": "markdown",
   "metadata": {},
   "source": [
    "# Задание 3 / Task 3:\n",
    "### 1. Реализуйте функцию, которая будет автоматически подгружать информацию из дополнительного файла groups_add.csv (заголовки могут отличаться) и на основании дополнительных параметров пересчитывать метрики.\n",
    "### 2. Реализуйте функцию, которая будет строить графики по получаемым метрикам.\n",
    "\n",
    "### 1. Write a function that would automatically add information from an additional file groups_add.csv (titles may vary) and recalculate metrics based on additional parameters.\n",
    "### 2. Write a function that would plot graphs according to recieved metrics."
   ]
  },
  {
   "cell_type": "code",
   "execution_count": 2,
   "metadata": {},
   "outputs": [],
   "source": [
    "def renew_data(main_df = 'groups.csv', add_df = 'groups_add.csv', add_params='checks.csv'):\n",
    "    main_df = pd.read_csv('~/' + main_df, sep=';')\n",
    "    add_df = pd.read_csv('~/' + add_df)\n",
    "    add_params = pd.read_csv('~/' + add_params, sep=';').rename(columns={'student_id': 'id'})\n",
    "    \n",
    "    new_df = pd.concat([main_df, add_df], ignore_index=True)\n",
    "    new_df = new_df.drop_duplicates(subset=['id', 'grp'])\n",
    "    new_df = new_df.merge(right=add_params, how='left', on='id').fillna(0.0)\n",
    "    \n",
    "    control = new_df.query('grp == \"A\" and rev != 0.0').rev.reset_index(drop=True)\n",
    "    target = new_df.query('grp == \"B\" and rev != 0.0').rev.reset_index(drop=True)\n",
    "    full_control = new_df.query('grp == \"A\"').rev.reset_index(drop=True)\n",
    "    full_target = new_df.query('grp == \"B\"').rev.reset_index(drop=True)\n",
    "    \n",
    "    new_df_and_metrics = {'new_df': new_df, \n",
    "                          'arppu_control' : round(control.sum() / control.shape[0], 2),\n",
    "                          'arppu_target': round(target.sum() / target.shape[0], 2), \n",
    "                          'arpu_control': round(control.sum() / full_control.shape[0], 2), \n",
    "                          'arpu_target': round(target.sum() / full_target.shape[0], 2),\n",
    "                          'CR_control': round((control.shape[0] / full_control.shape[0]) * 100, 2),\n",
    "                          'CR_target': round((target.shape[0] / full_target.shape[0]) * 100, 2)}\n",
    "    \n",
    "    return new_df_and_metrics"
   ]
  },
  {
   "cell_type": "code",
   "execution_count": 3,
   "metadata": {},
   "outputs": [],
   "source": [
    "def plot_data(new_df_and_metrics):\n",
    "    sns.set(\n",
    "        font_scale=1,\n",
    "        style=\"whitegrid\",\n",
    "        rc={'figure.figsize':(17,10)}\n",
    "            )\n",
    "    \n",
    "    arppu_control = new_df_and_metrics[\"arppu_control\"]\n",
    "    arppu_target = new_df_and_metrics[\"arppu_target\"]\n",
    "    arpu_control = new_df_and_metrics[\"arpu_control\"]\n",
    "    arpu_target = new_df_and_metrics[\"arpu_target\"]\n",
    "    CR_control = new_df_and_metrics[\"CR_control\"]\n",
    "    CR_target = new_df_and_metrics[\"CR_target\"]\n",
    "    \n",
    "    fig, axes = plt.subplots(1, 3)\n",
    "\n",
    "    sns.barplot(data=pd.DataFrame({'ARPPU': ['ARPPU control', 'ARPPU target'], 'values': [arppu_control, arppu_target], 'group': ['control', 'target']}), x='ARPPU', y='values', hue='group', ax=axes[0]).legend_.remove()\n",
    "    sns.barplot(data=pd.DataFrame({'ARPU': ['ARPU control', 'ARPU target'], 'values': [arpu_control, arpu_target], 'group': ['control', 'target']}), x='ARPU', y='values', hue='group', ax=axes[1]).legend_.remove()\n",
    "    sns.barplot(data=pd.DataFrame({'CR': ['CR control', 'CR target'], 'values': [CR_control, CR_target], 'group': ['control', 'target']}), x='CR', y='values', hue='group', ax=axes[2]).legend_.remove()"
   ]
  },
  {
   "cell_type": "markdown",
   "metadata": {},
   "source": [
    "# Проверка правильности работы функций\n",
    "# Checking, if the written functions are correct"
   ]
  },
  {
   "cell_type": "code",
   "execution_count": 4,
   "metadata": {},
   "outputs": [],
   "source": [
    "new_df_and_metrics = renew_data(main_df = 'my_final_project/variant_2/groups.csv', \n",
    "                                add_df = 'my_final_project/variant_2/group_add.csv', \n",
    "                                add_params='my_final_project/variant_2/checks.csv')"
   ]
  },
  {
   "cell_type": "code",
   "execution_count": 5,
   "metadata": {},
   "outputs": [
    {
     "name": "stdout",
     "output_type": "stream",
     "text": [
      "ARPPU for the control group is 860.71\n",
      "ARPPU for the target group is 1108.82\n",
      "\n",
      "ARPU for the control group is 6.27\n",
      "ARPU for the target group is 8.04\n",
      "\n",
      "CR for the control group is 0.73%\n",
      "CR for the target group is 0.72%\n"
     ]
    },
    {
     "data": {
      "text/html": [
       "<div>\n",
       "<style scoped>\n",
       "    .dataframe tbody tr th:only-of-type {\n",
       "        vertical-align: middle;\n",
       "    }\n",
       "\n",
       "    .dataframe tbody tr th {\n",
       "        vertical-align: top;\n",
       "    }\n",
       "\n",
       "    .dataframe thead th {\n",
       "        text-align: right;\n",
       "    }\n",
       "</style>\n",
       "<table border=\"1\" class=\"dataframe\">\n",
       "  <thead>\n",
       "    <tr style=\"text-align: right;\">\n",
       "      <th></th>\n",
       "      <th>id</th>\n",
       "      <th>grp</th>\n",
       "      <th>rev</th>\n",
       "    </tr>\n",
       "  </thead>\n",
       "  <tbody>\n",
       "    <tr>\n",
       "      <th>0</th>\n",
       "      <td>1489</td>\n",
       "      <td>B</td>\n",
       "      <td>0.0</td>\n",
       "    </tr>\n",
       "    <tr>\n",
       "      <th>1</th>\n",
       "      <td>1627</td>\n",
       "      <td>A</td>\n",
       "      <td>990.0</td>\n",
       "    </tr>\n",
       "    <tr>\n",
       "      <th>2</th>\n",
       "      <td>1768</td>\n",
       "      <td>B</td>\n",
       "      <td>0.0</td>\n",
       "    </tr>\n",
       "    <tr>\n",
       "      <th>3</th>\n",
       "      <td>1783</td>\n",
       "      <td>B</td>\n",
       "      <td>0.0</td>\n",
       "    </tr>\n",
       "    <tr>\n",
       "      <th>4</th>\n",
       "      <td>1794</td>\n",
       "      <td>A</td>\n",
       "      <td>0.0</td>\n",
       "    </tr>\n",
       "  </tbody>\n",
       "</table>\n",
       "</div>"
      ],
      "text/plain": [
       "     id grp    rev\n",
       "0  1489   B    0.0\n",
       "1  1627   A  990.0\n",
       "2  1768   B    0.0\n",
       "3  1783   B    0.0\n",
       "4  1794   A    0.0"
      ]
     },
     "execution_count": 5,
     "metadata": {},
     "output_type": "execute_result"
    }
   ],
   "source": [
    "print(f'ARPPU for the control group is {new_df_and_metrics[\"arppu_control\"]}')\n",
    "print(f'ARPPU for the target group is {new_df_and_metrics[\"arppu_target\"]}')\n",
    "print()\n",
    "print(f'ARPU for the control group is {new_df_and_metrics[\"arpu_control\"]}')\n",
    "print(f'ARPU for the target group is {new_df_and_metrics[\"arpu_target\"]}')\n",
    "print()\n",
    "print(f'CR for the control group is {new_df_and_metrics[\"CR_control\"]}%')\n",
    "print(f'CR for the target group is {new_df_and_metrics[\"CR_target\"]}%')\n",
    "new_df_and_metrics['new_df'].head()"
   ]
  },
  {
   "cell_type": "code",
   "execution_count": 6,
   "metadata": {},
   "outputs": [
    {
     "data": {
      "image/png": "[encoded data removed]",
      "text/plain": [
       "<Figure size 1224x720 with 3 Axes>"
      ]
     },
     "metadata": {},
     "output_type": "display_data"
    }
   ],
   "source": [
    "plot_data(new_df_and_metrics)\n"
   ]
  },
  {
   "cell_type": "code",
   "execution_count": null,
   "metadata": {},
   "outputs": [],
   "source": []
  },
  {
   "cell_type": "code",
   "execution_count": null,
   "metadata": {},
   "outputs": [],
   "source": []
  }
 ],
 "metadata": {
  "kernelspec": {
   "display_name": "Python 3",
   "language": "python",
   "name": "python3"
  },
  "language_info": {
   "codemirror_mode": {
    "name": "ipython",
    "version": 3
   },
   "file_extension": ".py",
   "mimetype": "text/x-python",
   "name": "python",
   "nbconvert_exporter": "python",
   "pygments_lexer": "ipython3",
   "version": "3.7.3"
  }
 },
 "nbformat": 4,
 "nbformat_minor": 4
}
